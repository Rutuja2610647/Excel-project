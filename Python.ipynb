{
  "nbformat": 4,
  "nbformat_minor": 0,
  "metadata": {
    "colab": {
      "provenance": [],
      "include_colab_link": true
    },
    "kernelspec": {
      "name": "python3",
      "display_name": "Python 3"
    },
    "language_info": {
      "name": "python"
    }
  },
  "cells": [
    {
      "cell_type": "markdown",
      "metadata": {
        "id": "view-in-github",
        "colab_type": "text"
      },
      "source": [
        "<a href=\"https://colab.research.google.com/github/Rutuja2610647/Excel-project/blob/main/Python.ipynb\" target=\"_parent\"><img src=\"https://colab.research.google.com/assets/colab-badge.svg\" alt=\"Open In Colab\"/></a>"
      ]
    },
    {
      "cell_type": "code",
      "execution_count": null,
      "metadata": {
        "id": "SjyHxMAHjZsL"
      },
      "outputs": [],
      "source": [
        "def calculate_duration(age, time_unit):\n",
        "    \"\"\"\n",
        "    Calculates the duration of life in the specified time unit.\n",
        "\n",
        "    Args:\n",
        "        age: The age of the person in years.\n",
        "        time_unit: The desired time unit ('months', 'weeks', 'days', 'hours', 'minutes', 'seconds').\n",
        "\n",
        "    Returns:\n",
        "        The duration of life in the specified time unit.\n",
        "    \"\"\"\n",
        "\n",
        "    seconds_per_year = 365 * 24 * 60 * 60\n",
        "    total_seconds = age * seconds_per_year\n",
        "\n",
        "    if time_unit.lower() == 'months':\n",
        "        return total_seconds // (30 * 24 * 60 * 60)\n",
        "    elif time_unit.lower() == 'weeks':\n",
        "        return total_seconds // (7 * 24 * 60 * 60)\n",
        "    elif time_unit.lower() == 'days':\n",
        "        return total_seconds // (24 * 60 * 60)\n",
        "    elif time_unit.lower() == 'hours':\n",
        "        return total_seconds // (60 * 60)\n",
        "    elif time_unit.lower() == 'minutes':\n",
        "        return total_seconds // 60\n",
        "    elif time_unit.lower() == 'seconds':\n",
        "        return total_seconds\n",
        "    else:\n",
        "        return \"Invalid time unit\""
      ]
    },
    {
      "cell_type": "code",
      "source": [
        "def calculate_duration(age, unit):\n",
        "    # Dictionary to convert age into different time units\n",
        "    conversions = {\n",
        "        \"months\": age * 12,                           # Age in months (12 months in a year)\n",
        "        \"weeks\": age * 52,                            # Age in weeks (52 weeks in a year)\n",
        "        \"days\": age * 365,                            # Age in days (365 days in a year)\n",
        "        \"hours\": age * 365 * 24,                      # Age in hours (24 hours in a day)\n",
        "        \"minutes\": age * 365 * 24 * 60,               # Age in minutes (60 minutes in an hour)\n",
        "        \"seconds\": age * 365 * 24 * 60 * 60          # Age in seconds (60 seconds in a minute)\n",
        "    }\n",
        "\n",
        "    # Return the conversion value for the selected unit\n",
        "    return conversions.get(unit.lower(), None)\n",
        "\n",
        "def main():\n",
        "    print(\"Welcome to the Survival Duration Calculator!\")\n",
        "\n",
        "    # Step 1: Ask for the user's age\n",
        "    while True:\n",
        "        try:\n",
        "            age = int(input(\"What's your age? \"))  # Accept age as an integer\n",
        "            if age < 0:\n",
        "                raise ValueError(\"Age cannot be negative.\")\n",
        "            break\n",
        "        except ValueError as e:\n",
        "            print(f\"Invalid input: {e}. Please enter a positive number.\")\n",
        "\n",
        "# Step 2: Ask for the time unit\n",
        "    units = [\"months\", \"weeks\", \"days\", \"hours\", \"minutes\", \"seconds\"]  # Available units\n",
        "    print(\"Please choose a time unit: Months, Weeks, Days, Hours, Minutes, Seconds.\")\n",
        "    print(\"Note: You can write the first letter or the full name of the time unit.\")\n",
        "\n",
        "    # Get the user's unit input\n",
        "    while True:\n",
        "        unit_input = input(\"Choose a unit: \").strip().lower()\n",
        "        # Match the user input with available units (first letter or full name)\n",
        "        unit = next((u for u in units if unit_input == u or unit_input == u[0]), None)\n",
        "        if unit:\n",
        "            break  # Valid input, exit loop\n",
        "        else:\n",
        "            print(\"Invalid choice. Please try again.\")\n",
        "\n",
        "    # Step 3: Perform the calculation for the selected unit\n",
        "    result = calculate_duration(age, unit)\n",
        "\n",
        "    # Step 4: Display the result\n",
        "    print(f\"You lived for {result} {unit.capitalize()}.\")\n",
        "\n",
        "if __name__ == \"__main__\":\n",
        "  main()\n",
        "\n",
        "\n",
        "\n",
        "\n",
        "\n"
      ],
      "metadata": {
        "colab": {
          "base_uri": "https://localhost:8080/"
        },
        "id": "GtLb38lPjtZW",
        "outputId": "a2cd26e6-f1d3-4666-923a-1966f492be49"
      },
      "execution_count": null,
      "outputs": [
        {
          "output_type": "stream",
          "name": "stdout",
          "text": [
            "Welcome to the Survival Duration Calculator!\n",
            "What's your age? 10\n",
            "Please choose a time unit: Months, Weeks, Days, Hours, Minutes, Seconds.\n",
            "Note: You can write the first letter or the full name of the time unit.\n",
            "Choose a unit: Months\n",
            "You lived for 120 Months.\n"
          ]
        }
      ]
    },
    {
      "cell_type": "code",
      "source": [
        "def calculate_duration(age, unit):\n",
        "    # Dictionary to convert age into different time units\n",
        "    conversions = {\n",
        "        \"months\": age * 12,                           # Age in months (12 months in a year)\n",
        "        \"weeks\": age * 52,                            # Age in weeks (52 weeks in a year)\n",
        "        \"days\": age * 365,                            # Age in days (365 days in a year)\n",
        "        \"hours\": age * 365 * 24,                      # Age in hours (24 hours in a day)\n",
        "        \"minutes\": age * 365 * 24 * 60,               # Age in minutes (60 minutes in an hour)\n",
        "        \"seconds\": age * 365 * 24 * 60 * 60          # Age in seconds (60 seconds in a minute)\n",
        "    }\n",
        "\n",
        "    # Return the conversion value for the selected unit\n",
        "    return conversions.get(unit.lower(), None)\n",
        "\n",
        "def main():\n",
        "    print(\"Welcome to the Survival Duration Calculator!\")\n",
        "\n",
        "    # Step 1: Ask for the user's age\n",
        "    while True:\n",
        "        try:\n",
        "            age = int(input(\"What's your age? \"))  # Accept age as an integer\n",
        "            if age < 0:\n",
        "                raise ValueError(\"Age cannot be negative.\")\n",
        "            break\n",
        "        except ValueError as e:\n",
        "            print(f\"Invalid input: {e}. Please enter a positive number.\")\n",
        "\n",
        "# Step 2: Ask for the time unit\n",
        "    units = [\"months\", \"weeks\", \"days\", \"hours\", \"minutes\", \"seconds\"]  # Available units\n",
        "    print(\"Please choose a time unit: Months, Weeks, Days, Hours, Minutes, Seconds.\")\n",
        "    print(\"Note: You can write the first letter or the full name of the time unit.\")\n",
        "\n",
        "    # Get the user's unit input\n",
        "    while True:\n",
        "        unit_input = input(\"Choose a unit: \").strip().lower()\n",
        "        # Match the user input with available units (first letter or full name)\n",
        "        unit = next((u for u in units if unit_input == u or unit_input == u[0]), None)\n",
        "        if unit:\n",
        "            break  # Valid input, exit loop\n",
        "        else:\n",
        "            print(\"Invalid choice. Please try again.\")\n",
        "\n",
        "    # Step 3: Perform the calculation for the selected unit\n",
        "    result = calculate_duration(age, unit)\n",
        "\n",
        "    # Step 4: Display the result\n",
        "    print(f\"You lived for {result} {unit.capitalize()}.\")\n",
        "\n",
        "if __name__ == \"__main__\":\n",
        "  main()"
      ],
      "metadata": {
        "colab": {
          "base_uri": "https://localhost:8080/"
        },
        "id": "3JWg6VfawALF",
        "outputId": "0716bce8-8788-40d5-9d3e-880a122f2f30"
      },
      "execution_count": null,
      "outputs": [
        {
          "output_type": "stream",
          "name": "stdout",
          "text": [
            "Welcome to the Survival Duration Calculator!\n",
            "What's your age? 10\n",
            "Please choose a time unit: Months, Weeks, Days, Hours, Minutes, Seconds.\n",
            "Note: You can write the first letter or the full name of the time unit.\n",
            "Choose a unit: Weeks\n",
            "You lived for 520 Weeks.\n"
          ]
        }
      ]
    },
    {
      "cell_type": "code",
      "source": [
        "def calculate_duration(age, unit):\n",
        "    # Dictionary to convert age into different time units\n",
        "    conversions = {\n",
        "        \"months\": age * 12,                           # Age in months (12 months in a year)\n",
        "        \"weeks\": age * 52,                            # Age in weeks (52 weeks in a year)\n",
        "        \"days\": age * 365,                            # Age in days (365 days in a year)\n",
        "        \"hours\": age * 365 * 24,                      # Age in hours (24 hours in a day)\n",
        "        \"minutes\": age * 365 * 24 * 60,               # Age in minutes (60 minutes in an hour)\n",
        "        \"seconds\": age * 365 * 24 * 60 * 60          # Age in seconds (60 seconds in a minute)\n",
        "    }\n",
        "\n",
        "    # Return the conversion value for the selected unit\n",
        "    return conversions.get(unit.lower(), None)\n",
        "\n",
        "def main():\n",
        "    print(\"Welcome to the Survival Duration Calculator!\")\n",
        "\n",
        "    # Step 1: Ask for the user's age\n",
        "    while True:\n",
        "        try:\n",
        "            age = int(input(\"What's your age? \"))  # Accept age as an integer\n",
        "            if age < 0:\n",
        "                raise ValueError(\"Age cannot be negative.\")\n",
        "            break\n",
        "        except ValueError as e:\n",
        "            print(f\"Invalid input: {e}. Please enter a positive number.\")\n",
        "\n",
        "# Step 2: Ask for the time unit\n",
        "    units = [\"months\", \"weeks\", \"days\", \"hours\", \"minutes\", \"seconds\"]  # Available units\n",
        "    print(\"Please choose a time unit: Months, Weeks, Days, Hours, Minutes, Seconds.\")\n",
        "    print(\"Note: You can write the first letter or the full name of the time unit.\")\n",
        "\n",
        "    # Get the user's unit input\n",
        "    while True:\n",
        "        unit_input = input(\"Choose a unit: \").strip().lower()\n",
        "        # Match the user input with available units (first letter or full name)\n",
        "        unit = next((u for u in units if unit_input == u or unit_input == u[0]), None)\n",
        "        if unit:\n",
        "            break  # Valid input, exit loop\n",
        "        else:\n",
        "            print(\"Invalid choice. Please try again.\")\n",
        "\n",
        "    # Step 3: Perform the calculation for the selected unit\n",
        "    result = calculate_duration(age, unit)\n",
        "\n",
        "    # Step 4: Display the result\n",
        "    print(f\"You lived for {result} {unit.capitalize()}.\")\n",
        "\n",
        "if __name__ == \"__main__\":\n",
        "  main()"
      ],
      "metadata": {
        "colab": {
          "base_uri": "https://localhost:8080/"
        },
        "id": "5pVnEP11zOz5",
        "outputId": "8e5a65b3-c060-47b0-e35a-002950ac7abe"
      },
      "execution_count": null,
      "outputs": [
        {
          "output_type": "stream",
          "name": "stdout",
          "text": [
            "Welcome to the Survival Duration Calculator!\n",
            "What's your age? 10\n",
            "Please choose a time unit: Months, Weeks, Days, Hours, Minutes, Seconds.\n",
            "Note: You can write the first letter or the full name of the time unit.\n",
            "Choose a unit: Days\n",
            "You lived for 3650 Days.\n"
          ]
        }
      ]
    },
    {
      "cell_type": "code",
      "source": [
        "def calculate_duration(age, unit):\n",
        "    # Dictionary to convert age into different time units\n",
        "    conversions = {\n",
        "        \"months\": age * 12,                           # Age in months (12 months in a year)\n",
        "        \"weeks\": age * 52,                            # Age in weeks (52 weeks in a year)\n",
        "        \"days\": age * 365,                            # Age in days (365 days in a year)\n",
        "        \"hours\": age * 365 * 24,                      # Age in hours (24 hours in a day)\n",
        "        \"minutes\": age * 365 * 24 * 60,               # Age in minutes (60 minutes in an hour)\n",
        "        \"seconds\": age * 365 * 24 * 60 * 60          # Age in seconds (60 seconds in a minute)\n",
        "    }\n",
        "\n",
        "    # Return the conversion value for the selected unit\n",
        "    return conversions.get(unit.lower(), None)\n",
        "\n",
        "def main():\n",
        "    print(\"Welcome to the Survival Duration Calculator!\")\n",
        "\n",
        "    # Step 1: Ask for the user's age\n",
        "    while True:\n",
        "        try:\n",
        "            age = int(input(\"What's your age? \"))  # Accept age as an integer\n",
        "            if age < 0:\n",
        "                raise ValueError(\"Age cannot be negative.\")\n",
        "            break\n",
        "        except ValueError as e:\n",
        "            print(f\"Invalid input: {e}. Please enter a positive number.\")\n",
        "\n",
        "# Step 2: Ask for the time unit\n",
        "    units = [\"months\", \"weeks\", \"days\", \"hours\", \"minutes\", \"seconds\"]  # Available units\n",
        "    print(\"Please choose a time unit: Months, Weeks, Days, Hours, Minutes, Seconds.\")\n",
        "    print(\"Note: You can write the first letter or the full name of the time unit.\")\n",
        "\n",
        "    # Get the user's unit input\n",
        "    while True:\n",
        "        unit_input = input(\"Choose a unit: \").strip().lower()\n",
        "        # Match the user input with available units (first letter or full name)\n",
        "        unit = next((u for u in units if unit_input == u or unit_input == u[0]), None)\n",
        "        if unit:\n",
        "            break  # Valid input, exit loop\n",
        "        else:\n",
        "            print(\"Invalid choice. Please try again.\")\n",
        "\n",
        "    # Step 3: Perform the calculation for the selected unit\n",
        "    result = calculate_duration(age, unit)\n",
        "\n",
        "    # Step 4: Display the result\n",
        "    print(f\"You lived for {result} {unit.capitalize()}.\")\n",
        "\n",
        "if __name__ == \"__main__\":\n",
        "  main()"
      ],
      "metadata": {
        "colab": {
          "base_uri": "https://localhost:8080/"
        },
        "id": "epNGG0Uuzqrr",
        "outputId": "84bf2576-fd65-4167-b819-15e3e984c266"
      },
      "execution_count": null,
      "outputs": [
        {
          "output_type": "stream",
          "name": "stdout",
          "text": [
            "Welcome to the Survival Duration Calculator!\n",
            "What's your age? 10\n",
            "Please choose a time unit: Months, Weeks, Days, Hours, Minutes, Seconds.\n",
            "Note: You can write the first letter or the full name of the time unit.\n",
            "Choose a unit: Hours\n",
            "You lived for 87600 Hours.\n"
          ]
        }
      ]
    },
    {
      "cell_type": "code",
      "source": [
        "def calculate_duration(age, unit):\n",
        "    # Dictionary to convert age into different time units\n",
        "    conversions = {\n",
        "        \"months\": age * 12,                           # Age in months (12 months in a year)\n",
        "        \"weeks\": age * 52,                            # Age in weeks (52 weeks in a year)\n",
        "        \"days\": age * 365,                            # Age in days (365 days in a year)\n",
        "        \"hours\": age * 365 * 24,                      # Age in hours (24 hours in a day)\n",
        "        \"minutes\": age * 365 * 24 * 60,               # Age in minutes (60 minutes in an hour)\n",
        "        \"seconds\": age * 365 * 24 * 60 * 60          # Age in seconds (60 seconds in a minute)\n",
        "    }\n",
        "\n",
        "    # Return the conversion value for the selected unit\n",
        "    return conversions.get(unit.lower(), None)\n",
        "\n",
        "def main():\n",
        "    print(\"Welcome to the Survival Duration Calculator!\")\n",
        "\n",
        "    # Step 1: Ask for the user's age\n",
        "    while True:\n",
        "        try:\n",
        "            age = int(input(\"What's your age? \"))  # Accept age as an integer\n",
        "            if age < 0:\n",
        "                raise ValueError(\"Age cannot be negative.\")\n",
        "            break\n",
        "        except ValueError as e:\n",
        "            print(f\"Invalid input: {e}. Please enter a positive number.\")\n",
        "\n",
        "# Step 2: Ask for the time unit\n",
        "    units = [\"months\", \"weeks\", \"days\", \"hours\", \"minutes\", \"seconds\"]  # Available units\n",
        "    print(\"Please choose a time unit: Months, Weeks, Days, Hours, Minutes, Seconds.\")\n",
        "    print(\"Note: You can write the first letter or the full name of the time unit.\")\n",
        "\n",
        "    # Get the user's unit input\n",
        "    while True:\n",
        "        unit_input = input(\"Choose a unit: \").strip().lower()\n",
        "        # Match the user input with available units (first letter or full name)\n",
        "        unit = next((u for u in units if unit_input == u or unit_input == u[0]), None)\n",
        "        if unit:\n",
        "            break  # Valid input, exit loop\n",
        "        else:\n",
        "            print(\"Invalid choice. Please try again.\")\n",
        "\n",
        "    # Step 3: Perform the calculation for the selected unit\n",
        "    result = calculate_duration(age, unit)\n",
        "\n",
        "    # Step 4: Display the result\n",
        "    print(f\"You lived for {result} {unit.capitalize()}.\")\n",
        "\n",
        "if __name__ == \"__main__\":\n",
        "  main()"
      ],
      "metadata": {
        "colab": {
          "base_uri": "https://localhost:8080/"
        },
        "id": "dHfox7clzx44",
        "outputId": "0ffe9121-1637-466d-cc54-30bff10ef51a"
      },
      "execution_count": null,
      "outputs": [
        {
          "output_type": "stream",
          "name": "stdout",
          "text": [
            "Welcome to the Survival Duration Calculator!\n",
            "What's your age? 10\n",
            "Please choose a time unit: Months, Weeks, Days, Hours, Minutes, Seconds.\n",
            "Note: You can write the first letter or the full name of the time unit.\n",
            "Choose a unit: Minutes\n",
            "You lived for 5256000 Minutes.\n"
          ]
        }
      ]
    },
    {
      "cell_type": "code",
      "source": [
        "def calculate_duration(age, unit):\n",
        "    # Dictionary to convert age into different time units\n",
        "    conversions = {\n",
        "        \"months\": age * 12,                           # Age in months (12 months in a year)\n",
        "        \"weeks\": age * 52,                            # Age in weeks (52 weeks in a year)\n",
        "        \"days\": age * 365,                            # Age in days (365 days in a year)\n",
        "        \"hours\": age * 365 * 24,                      # Age in hours (24 hours in a day)\n",
        "        \"minutes\": age * 365 * 24 * 60,               # Age in minutes (60 minutes in an hour)\n",
        "        \"seconds\": age * 365 * 24 * 60 * 60          # Age in seconds (60 seconds in a minute)\n",
        "    }\n",
        "\n",
        "    # Return the conversion value for the selected unit\n",
        "    return conversions.get(unit.lower(), None)\n",
        "\n",
        "def main():\n",
        "    print(\"Welcome to the Survival Duration Calculator!\")\n",
        "\n",
        "    # Step 1: Ask for the user's age\n",
        "    while True:\n",
        "        try:\n",
        "            age = int(input(\"What's your age? \"))  # Accept age as an integer\n",
        "            if age < 0:\n",
        "                raise ValueError(\"Age cannot be negative.\")\n",
        "            break\n",
        "        except ValueError as e:\n",
        "            print(f\"Invalid input: {e}. Please enter a positive number.\")\n",
        "\n",
        "# Step 2: Ask for the time unit\n",
        "    units = [\"months\", \"weeks\", \"days\", \"hours\", \"minutes\", \"seconds\"]  # Available units\n",
        "    print(\"Please choose a time unit: Months, Weeks, Days, Hours, Minutes, Seconds.\")\n",
        "    print(\"Note: You can write the first letter or the full name of the time unit.\")\n",
        "\n",
        "    # Get the user's unit input\n",
        "    while True:\n",
        "        unit_input = input(\"Choose a unit: \").strip().lower()\n",
        "        # Match the user input with available units (first letter or full name)\n",
        "        unit = next((u for u in units if unit_input == u or unit_input == u[0]), None)\n",
        "        if unit:\n",
        "            break  # Valid input, exit loop\n",
        "        else:\n",
        "            print(\"Invalid choice. Please try again.\")\n",
        "\n",
        "    # Step 3: Perform the calculation for the selected unit\n",
        "    result = calculate_duration(age, unit)\n",
        "\n",
        "    # Step 4: Display the result\n",
        "    print(f\"You lived for {result} {unit.capitalize()}.\")\n",
        "\n",
        "if __name__ == \"__main__\":\n",
        "  main()"
      ],
      "metadata": {
        "colab": {
          "base_uri": "https://localhost:8080/"
        },
        "id": "jQ7ePiVmz3Mx",
        "outputId": "5cc954c6-e784-40d7-8410-8162e422c353"
      },
      "execution_count": null,
      "outputs": [
        {
          "output_type": "stream",
          "name": "stdout",
          "text": [
            "Welcome to the Survival Duration Calculator!\n",
            "What's your age? 10\n",
            "Please choose a time unit: Months, Weeks, Days, Hours, Minutes, Seconds.\n",
            "Note: You can write the first letter or the full name of the time unit.\n",
            "Choose a unit: Seconds\n",
            "You lived for 315360000 Seconds.\n"
          ]
        }
      ]
    }
  ]
}